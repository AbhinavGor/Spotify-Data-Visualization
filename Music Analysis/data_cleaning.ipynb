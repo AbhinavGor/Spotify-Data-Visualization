{
  "cells": [
    {
      "cell_type": "markdown",
      "metadata": {
        "id": "Sr8so99VZS8p"
      },
      "source": [
        "# Data Cleaning\n",
        "\n",
        "Before starting out with data analysis it is pertinent that we check the data and solve any messiness present in the data so that we get accurate results."
      ]
    },
    {
      "cell_type": "code",
      "execution_count": 1,
      "metadata": {
        "id": "4UR7mSuC9sjO"
      },
      "outputs": [],
      "source": [
        "#importing required packages\n",
        "import pandas as pd"
      ]
    },
    {
      "cell_type": "code",
      "execution_count": 2,
      "metadata": {
        "colab": {
          "base_uri": "https://localhost:8080/",
          "height": 411
        },
        "id": "h2AUa_wGi252",
        "outputId": "c6c9c05f-d882-4b95-ee47-a74c9ef0aa4d"
      },
      "outputs": [
        {
          "data": {
            "text/html": [
              "<div>\n",
              "<style scoped>\n",
              "    .dataframe tbody tr th:only-of-type {\n",
              "        vertical-align: middle;\n",
              "    }\n",
              "\n",
              "    .dataframe tbody tr th {\n",
              "        vertical-align: top;\n",
              "    }\n",
              "\n",
              "    .dataframe thead th {\n",
              "        text-align: right;\n",
              "    }\n",
              "</style>\n",
              "<table border=\"1\" class=\"dataframe\">\n",
              "  <thead>\n",
              "    <tr style=\"text-align: right;\">\n",
              "      <th></th>\n",
              "      <th>Unnamed: 0</th>\n",
              "      <th>name</th>\n",
              "      <th>endTime</th>\n",
              "      <th>artistName</th>\n",
              "      <th>trackName</th>\n",
              "      <th>msPlayed</th>\n",
              "      <th>datetime</th>\n",
              "      <th>danceability</th>\n",
              "      <th>energy</th>\n",
              "      <th>key</th>\n",
              "      <th>...</th>\n",
              "      <th>tempo</th>\n",
              "      <th>type</th>\n",
              "      <th>id</th>\n",
              "      <th>uri</th>\n",
              "      <th>track_href</th>\n",
              "      <th>analysis_url</th>\n",
              "      <th>duration_ms</th>\n",
              "      <th>time_signature</th>\n",
              "      <th>albumName</th>\n",
              "      <th>albumID</th>\n",
              "    </tr>\n",
              "  </thead>\n",
              "  <tbody>\n",
              "    <tr>\n",
              "      <th>0</th>\n",
              "      <td>0</td>\n",
              "      <td>Angel___Theory of a Deadman</td>\n",
              "      <td>2021-03-12 05:39</td>\n",
              "      <td>Theory of a Deadman</td>\n",
              "      <td>Angel</td>\n",
              "      <td>1187</td>\n",
              "      <td>2021-03-12 05:39:00</td>\n",
              "      <td>0.559</td>\n",
              "      <td>0.559</td>\n",
              "      <td>11</td>\n",
              "      <td>...</td>\n",
              "      <td>72.498</td>\n",
              "      <td>audio_features</td>\n",
              "      <td>2m6Ko3CY1qXNNja8AlugNc</td>\n",
              "      <td>spotify:track:2m6Ko3CY1qXNNja8AlugNc</td>\n",
              "      <td>https://api.spotify.com/v1/tracks/2m6Ko3CY1qXN...</td>\n",
              "      <td>https://api.spotify.com/v1/audio-analysis/2m6K...</td>\n",
              "      <td>220780</td>\n",
              "      <td>4</td>\n",
              "      <td>Angel Baby</td>\n",
              "      <td>44CdsgXhU5R2esprq0tf43</td>\n",
              "    </tr>\n",
              "    <tr>\n",
              "      <th>1</th>\n",
              "      <td>1</td>\n",
              "      <td>Gone, Gone, Gone___Phillip Phillips</td>\n",
              "      <td>2021-03-12 05:39</td>\n",
              "      <td>Phillip Phillips</td>\n",
              "      <td>Gone, Gone, Gone</td>\n",
              "      <td>1292</td>\n",
              "      <td>2021-03-12 05:39:00</td>\n",
              "      <td>0.664</td>\n",
              "      <td>0.642</td>\n",
              "      <td>6</td>\n",
              "      <td>...</td>\n",
              "      <td>118.002</td>\n",
              "      <td>audio_features</td>\n",
              "      <td>2qHiyBpxyOXnRGG3t2iE96</td>\n",
              "      <td>spotify:track:2qHiyBpxyOXnRGG3t2iE96</td>\n",
              "      <td>https://api.spotify.com/v1/tracks/2qHiyBpxyOXn...</td>\n",
              "      <td>https://api.spotify.com/v1/audio-analysis/2qHi...</td>\n",
              "      <td>209693</td>\n",
              "      <td>4</td>\n",
              "      <td>The World From The Side Of The Moon</td>\n",
              "      <td>0mVaaNSEcExh4rejUpiSj6</td>\n",
              "    </tr>\n",
              "    <tr>\n",
              "      <th>2</th>\n",
              "      <td>2</td>\n",
              "      <td>Angel___Theory of a Deadman</td>\n",
              "      <td>2021-03-12 05:43</td>\n",
              "      <td>Theory of a Deadman</td>\n",
              "      <td>Angel</td>\n",
              "      <td>202213</td>\n",
              "      <td>2021-03-12 05:43:00</td>\n",
              "      <td>0.559</td>\n",
              "      <td>0.559</td>\n",
              "      <td>11</td>\n",
              "      <td>...</td>\n",
              "      <td>72.498</td>\n",
              "      <td>audio_features</td>\n",
              "      <td>2m6Ko3CY1qXNNja8AlugNc</td>\n",
              "      <td>spotify:track:2m6Ko3CY1qXNNja8AlugNc</td>\n",
              "      <td>https://api.spotify.com/v1/tracks/2m6Ko3CY1qXN...</td>\n",
              "      <td>https://api.spotify.com/v1/audio-analysis/2m6K...</td>\n",
              "      <td>220780</td>\n",
              "      <td>4</td>\n",
              "      <td>Angel Baby</td>\n",
              "      <td>44CdsgXhU5R2esprq0tf43</td>\n",
              "    </tr>\n",
              "    <tr>\n",
              "      <th>3</th>\n",
              "      <td>3</td>\n",
              "      <td>Without You___John Newman</td>\n",
              "      <td>2021-03-12 05:50</td>\n",
              "      <td>John Newman</td>\n",
              "      <td>Without You</td>\n",
              "      <td>207965</td>\n",
              "      <td>2021-03-12 05:50:00</td>\n",
              "      <td>0.662</td>\n",
              "      <td>0.413</td>\n",
              "      <td>0</td>\n",
              "      <td>...</td>\n",
              "      <td>93.005</td>\n",
              "      <td>audio_features</td>\n",
              "      <td>27OeeYzk6klgBh83TSvGMA</td>\n",
              "      <td>spotify:track:27OeeYzk6klgBh83TSvGMA</td>\n",
              "      <td>https://api.spotify.com/v1/tracks/27OeeYzk6klg...</td>\n",
              "      <td>https://api.spotify.com/v1/audio-analysis/27Oe...</td>\n",
              "      <td>161385</td>\n",
              "      <td>4</td>\n",
              "      <td>F*CK LOVE (SAVAGE)</td>\n",
              "      <td>3YjfdLdpQcVI72uKhooZst</td>\n",
              "    </tr>\n",
              "    <tr>\n",
              "      <th>4</th>\n",
              "      <td>4</td>\n",
              "      <td>Hurricane___Anson Seabra</td>\n",
              "      <td>2021-03-12 05:57</td>\n",
              "      <td>Anson Seabra</td>\n",
              "      <td>Hurricane</td>\n",
              "      <td>201440</td>\n",
              "      <td>2021-03-12 05:57:00</td>\n",
              "      <td>0.687</td>\n",
              "      <td>0.200</td>\n",
              "      <td>7</td>\n",
              "      <td>...</td>\n",
              "      <td>134.993</td>\n",
              "      <td>audio_features</td>\n",
              "      <td>2wfuK8f77bybu2MWiQ5Evn</td>\n",
              "      <td>spotify:track:2wfuK8f77bybu2MWiQ5Evn</td>\n",
              "      <td>https://api.spotify.com/v1/tracks/2wfuK8f77byb...</td>\n",
              "      <td>https://api.spotify.com/v1/audio-analysis/2wfu...</td>\n",
              "      <td>201440</td>\n",
              "      <td>4</td>\n",
              "      <td>Hurricane</td>\n",
              "      <td>267C1h0KBd2QGM368Ef9ue</td>\n",
              "    </tr>\n",
              "  </tbody>\n",
              "</table>\n",
              "<p>5 rows × 27 columns</p>\n",
              "</div>"
            ],
            "text/plain": [
              "   Unnamed: 0                                 name           endTime  \\\n",
              "0           0          Angel___Theory of a Deadman  2021-03-12 05:39   \n",
              "1           1  Gone, Gone, Gone___Phillip Phillips  2021-03-12 05:39   \n",
              "2           2          Angel___Theory of a Deadman  2021-03-12 05:43   \n",
              "3           3            Without You___John Newman  2021-03-12 05:50   \n",
              "4           4             Hurricane___Anson Seabra  2021-03-12 05:57   \n",
              "\n",
              "            artistName         trackName  msPlayed             datetime  \\\n",
              "0  Theory of a Deadman             Angel      1187  2021-03-12 05:39:00   \n",
              "1     Phillip Phillips  Gone, Gone, Gone      1292  2021-03-12 05:39:00   \n",
              "2  Theory of a Deadman             Angel    202213  2021-03-12 05:43:00   \n",
              "3          John Newman       Without You    207965  2021-03-12 05:50:00   \n",
              "4         Anson Seabra         Hurricane    201440  2021-03-12 05:57:00   \n",
              "\n",
              "   danceability  energy  key  ...    tempo            type  \\\n",
              "0         0.559   0.559   11  ...   72.498  audio_features   \n",
              "1         0.664   0.642    6  ...  118.002  audio_features   \n",
              "2         0.559   0.559   11  ...   72.498  audio_features   \n",
              "3         0.662   0.413    0  ...   93.005  audio_features   \n",
              "4         0.687   0.200    7  ...  134.993  audio_features   \n",
              "\n",
              "                       id                                   uri  \\\n",
              "0  2m6Ko3CY1qXNNja8AlugNc  spotify:track:2m6Ko3CY1qXNNja8AlugNc   \n",
              "1  2qHiyBpxyOXnRGG3t2iE96  spotify:track:2qHiyBpxyOXnRGG3t2iE96   \n",
              "2  2m6Ko3CY1qXNNja8AlugNc  spotify:track:2m6Ko3CY1qXNNja8AlugNc   \n",
              "3  27OeeYzk6klgBh83TSvGMA  spotify:track:27OeeYzk6klgBh83TSvGMA   \n",
              "4  2wfuK8f77bybu2MWiQ5Evn  spotify:track:2wfuK8f77bybu2MWiQ5Evn   \n",
              "\n",
              "                                          track_href  \\\n",
              "0  https://api.spotify.com/v1/tracks/2m6Ko3CY1qXN...   \n",
              "1  https://api.spotify.com/v1/tracks/2qHiyBpxyOXn...   \n",
              "2  https://api.spotify.com/v1/tracks/2m6Ko3CY1qXN...   \n",
              "3  https://api.spotify.com/v1/tracks/27OeeYzk6klg...   \n",
              "4  https://api.spotify.com/v1/tracks/2wfuK8f77byb...   \n",
              "\n",
              "                                        analysis_url  duration_ms  \\\n",
              "0  https://api.spotify.com/v1/audio-analysis/2m6K...       220780   \n",
              "1  https://api.spotify.com/v1/audio-analysis/2qHi...       209693   \n",
              "2  https://api.spotify.com/v1/audio-analysis/2m6K...       220780   \n",
              "3  https://api.spotify.com/v1/audio-analysis/27Oe...       161385   \n",
              "4  https://api.spotify.com/v1/audio-analysis/2wfu...       201440   \n",
              "\n",
              "   time_signature                            albumName                 albumID  \n",
              "0               4                           Angel Baby  44CdsgXhU5R2esprq0tf43  \n",
              "1               4  The World From The Side Of The Moon  0mVaaNSEcExh4rejUpiSj6  \n",
              "2               4                           Angel Baby  44CdsgXhU5R2esprq0tf43  \n",
              "3               4                   F*CK LOVE (SAVAGE)  3YjfdLdpQcVI72uKhooZst  \n",
              "4               4                            Hurricane  267C1h0KBd2QGM368Ef9ue  \n",
              "\n",
              "[5 rows x 27 columns]"
            ]
          },
          "execution_count": 2,
          "metadata": {},
          "output_type": "execute_result"
        }
      ],
      "source": [
        "# loading the song file\n",
        "df1 = pd.read_csv('spotify data scraping\\output\\\\final.csv')\n",
        "df1.head()"
      ]
    },
    {
      "cell_type": "code",
      "execution_count": 3,
      "metadata": {
        "colab": {
          "base_uri": "https://localhost:8080/",
          "height": 119
        },
        "id": "pDUA6hmGid8X",
        "outputId": "848c1fa8-4e7f-48ba-b7ac-83bd4f571619"
      },
      "outputs": [
        {
          "data": {
            "text/plain": [
              "Index(['Unnamed: 0', 'name', 'endTime', 'artistName', 'trackName', 'msPlayed',\n",
              "       'datetime', 'danceability', 'energy', 'key', 'loudness', 'mode',\n",
              "       'speechiness', 'acousticness', 'instrumentalness', 'liveness',\n",
              "       'valence', 'tempo', 'type', 'id', 'uri', 'track_href', 'analysis_url',\n",
              "       'duration_ms', 'time_signature', 'albumName', 'albumID'],\n",
              "      dtype='object')"
            ]
          },
          "execution_count": 3,
          "metadata": {},
          "output_type": "execute_result"
        }
      ],
      "source": [
        "df1.columns"
      ]
    },
    {
      "cell_type": "code",
      "execution_count": 4,
      "metadata": {
        "colab": {
          "base_uri": "https://localhost:8080/",
          "height": 462
        },
        "id": "FJ5-LKs41VLm",
        "outputId": "00b2d3e2-9837-46d4-dc83-cd0589a6bb41"
      },
      "outputs": [
        {
          "data": {
            "text/html": [
              "<div>\n",
              "<style scoped>\n",
              "    .dataframe tbody tr th:only-of-type {\n",
              "        vertical-align: middle;\n",
              "    }\n",
              "\n",
              "    .dataframe tbody tr th {\n",
              "        vertical-align: top;\n",
              "    }\n",
              "\n",
              "    .dataframe thead th {\n",
              "        text-align: right;\n",
              "    }\n",
              "</style>\n",
              "<table border=\"1\" class=\"dataframe\">\n",
              "  <thead>\n",
              "    <tr style=\"text-align: right;\">\n",
              "      <th></th>\n",
              "      <th>Unnamed: 0</th>\n",
              "      <th>id</th>\n",
              "      <th>spotify_id</th>\n",
              "      <th>list_name</th>\n",
              "      <th>list_id</th>\n",
              "      <th>song_id</th>\n",
              "      <th>song_name</th>\n",
              "      <th>artist</th>\n",
              "      <th>popularity</th>\n",
              "      <th>release_date</th>\n",
              "      <th>...</th>\n",
              "      <th>tempo</th>\n",
              "      <th>speechiness</th>\n",
              "      <th>acousticness</th>\n",
              "      <th>instrumentalness</th>\n",
              "      <th>danceability</th>\n",
              "      <th>duration_ms</th>\n",
              "      <th>loudness</th>\n",
              "      <th>valence</th>\n",
              "      <th>mode</th>\n",
              "      <th>key</th>\n",
              "    </tr>\n",
              "  </thead>\n",
              "  <tbody>\n",
              "    <tr>\n",
              "      <th>0</th>\n",
              "      <td>0</td>\n",
              "      <td>1</td>\n",
              "      <td>6JgDDAXKW3LpOqyuaajS9r</td>\n",
              "      <td>My Playlist #4</td>\n",
              "      <td>6JgDDAXKW3LpOqyuaajS9r</td>\n",
              "      <td>0C47mkZ7VGcnKBvEG7PiAP</td>\n",
              "      <td>Abhi Na Jao Chhod Kar</td>\n",
              "      <td>Asha Bhosle</td>\n",
              "      <td>53.0</td>\n",
              "      <td>1961-01-01</td>\n",
              "      <td>...</td>\n",
              "      <td>96.444</td>\n",
              "      <td>0.0355</td>\n",
              "      <td>0.607000</td>\n",
              "      <td>0.1870</td>\n",
              "      <td>0.521</td>\n",
              "      <td>255027.0</td>\n",
              "      <td>-9.856</td>\n",
              "      <td>0.551</td>\n",
              "      <td>1.0</td>\n",
              "      <td>3.0</td>\n",
              "    </tr>\n",
              "    <tr>\n",
              "      <th>1</th>\n",
              "      <td>1</td>\n",
              "      <td>1</td>\n",
              "      <td>6JgDDAXKW3LpOqyuaajS9r</td>\n",
              "      <td>My Playlist #4</td>\n",
              "      <td>6JgDDAXKW3LpOqyuaajS9r</td>\n",
              "      <td>7Hkbm2DgepcriVxDrwbCcc</td>\n",
              "      <td>Taarif Karoon</td>\n",
              "      <td>Mohammed Rafi</td>\n",
              "      <td>56.0</td>\n",
              "      <td>2019-05-16</td>\n",
              "      <td>...</td>\n",
              "      <td>111.995</td>\n",
              "      <td>0.0464</td>\n",
              "      <td>0.352000</td>\n",
              "      <td>0.0000</td>\n",
              "      <td>0.796</td>\n",
              "      <td>157761.0</td>\n",
              "      <td>-6.067</td>\n",
              "      <td>0.795</td>\n",
              "      <td>1.0</td>\n",
              "      <td>5.0</td>\n",
              "    </tr>\n",
              "    <tr>\n",
              "      <th>2</th>\n",
              "      <td>2</td>\n",
              "      <td>1</td>\n",
              "      <td>6JgDDAXKW3LpOqyuaajS9r</td>\n",
              "      <td>My Playlist #4</td>\n",
              "      <td>6JgDDAXKW3LpOqyuaajS9r</td>\n",
              "      <td>0Fv1BhESkVabGfhPy3vDbV</td>\n",
              "      <td>Jane Kahan Mera Jigar Gaya Ji</td>\n",
              "      <td>Geeta Dutt</td>\n",
              "      <td>46.0</td>\n",
              "      <td>1955-01-01</td>\n",
              "      <td>...</td>\n",
              "      <td>121.316</td>\n",
              "      <td>0.0590</td>\n",
              "      <td>0.877000</td>\n",
              "      <td>0.0000</td>\n",
              "      <td>0.917</td>\n",
              "      <td>218373.0</td>\n",
              "      <td>-5.145</td>\n",
              "      <td>0.977</td>\n",
              "      <td>1.0</td>\n",
              "      <td>6.0</td>\n",
              "    </tr>\n",
              "    <tr>\n",
              "      <th>3</th>\n",
              "      <td>3</td>\n",
              "      <td>2</td>\n",
              "      <td>1yBHRAOjWD7eutxWm4eojs</td>\n",
              "      <td>My Playlist #3</td>\n",
              "      <td>NaN</td>\n",
              "      <td>NaN</td>\n",
              "      <td>NaN</td>\n",
              "      <td>NaN</td>\n",
              "      <td>NaN</td>\n",
              "      <td>NaN</td>\n",
              "      <td>...</td>\n",
              "      <td>NaN</td>\n",
              "      <td>NaN</td>\n",
              "      <td>NaN</td>\n",
              "      <td>NaN</td>\n",
              "      <td>NaN</td>\n",
              "      <td>NaN</td>\n",
              "      <td>NaN</td>\n",
              "      <td>NaN</td>\n",
              "      <td>NaN</td>\n",
              "      <td>NaN</td>\n",
              "    </tr>\n",
              "    <tr>\n",
              "      <th>4</th>\n",
              "      <td>4</td>\n",
              "      <td>3</td>\n",
              "      <td>6CpEUlX7mrR8G4Aq6A2UqH</td>\n",
              "      <td>My Playlist #2</td>\n",
              "      <td>6CpEUlX7mrR8G4Aq6A2UqH</td>\n",
              "      <td>5ZsAhuQ24mWHiduaxJqnhW</td>\n",
              "      <td>Udd Gaye</td>\n",
              "      <td>Ritviz</td>\n",
              "      <td>65.0</td>\n",
              "      <td>2019-07-01</td>\n",
              "      <td>...</td>\n",
              "      <td>144.961</td>\n",
              "      <td>0.0474</td>\n",
              "      <td>0.000712</td>\n",
              "      <td>0.0386</td>\n",
              "      <td>0.595</td>\n",
              "      <td>180414.0</td>\n",
              "      <td>-6.187</td>\n",
              "      <td>0.483</td>\n",
              "      <td>0.0</td>\n",
              "      <td>11.0</td>\n",
              "    </tr>\n",
              "  </tbody>\n",
              "</table>\n",
              "<p>5 rows × 22 columns</p>\n",
              "</div>"
            ],
            "text/plain": [
              "   Unnamed: 0  id              spotify_id       list_name  \\\n",
              "0           0   1  6JgDDAXKW3LpOqyuaajS9r  My Playlist #4   \n",
              "1           1   1  6JgDDAXKW3LpOqyuaajS9r  My Playlist #4   \n",
              "2           2   1  6JgDDAXKW3LpOqyuaajS9r  My Playlist #4   \n",
              "3           3   2  1yBHRAOjWD7eutxWm4eojs  My Playlist #3   \n",
              "4           4   3  6CpEUlX7mrR8G4Aq6A2UqH  My Playlist #2   \n",
              "\n",
              "                  list_id                 song_id  \\\n",
              "0  6JgDDAXKW3LpOqyuaajS9r  0C47mkZ7VGcnKBvEG7PiAP   \n",
              "1  6JgDDAXKW3LpOqyuaajS9r  7Hkbm2DgepcriVxDrwbCcc   \n",
              "2  6JgDDAXKW3LpOqyuaajS9r  0Fv1BhESkVabGfhPy3vDbV   \n",
              "3                     NaN                     NaN   \n",
              "4  6CpEUlX7mrR8G4Aq6A2UqH  5ZsAhuQ24mWHiduaxJqnhW   \n",
              "\n",
              "                       song_name         artist  popularity release_date  ...  \\\n",
              "0          Abhi Na Jao Chhod Kar    Asha Bhosle        53.0   1961-01-01  ...   \n",
              "1                  Taarif Karoon  Mohammed Rafi        56.0   2019-05-16  ...   \n",
              "2  Jane Kahan Mera Jigar Gaya Ji     Geeta Dutt        46.0   1955-01-01  ...   \n",
              "3                            NaN            NaN         NaN          NaN  ...   \n",
              "4                       Udd Gaye         Ritviz        65.0   2019-07-01  ...   \n",
              "\n",
              "     tempo  speechiness  acousticness  instrumentalness  danceability  \\\n",
              "0   96.444       0.0355      0.607000            0.1870         0.521   \n",
              "1  111.995       0.0464      0.352000            0.0000         0.796   \n",
              "2  121.316       0.0590      0.877000            0.0000         0.917   \n",
              "3      NaN          NaN           NaN               NaN           NaN   \n",
              "4  144.961       0.0474      0.000712            0.0386         0.595   \n",
              "\n",
              "   duration_ms  loudness  valence  mode   key  \n",
              "0     255027.0    -9.856    0.551   1.0   3.0  \n",
              "1     157761.0    -6.067    0.795   1.0   5.0  \n",
              "2     218373.0    -5.145    0.977   1.0   6.0  \n",
              "3          NaN       NaN      NaN   NaN   NaN  \n",
              "4     180414.0    -6.187    0.483   0.0  11.0  \n",
              "\n",
              "[5 rows x 22 columns]"
            ]
          },
          "execution_count": 4,
          "metadata": {},
          "output_type": "execute_result"
        }
      ],
      "source": [
        "# loading the playlist data file\n",
        "df2 = pd.read_csv('spotify data scraping\\playlist.csv')\n",
        "df2.head()"
      ]
    },
    {
      "cell_type": "code",
      "execution_count": 5,
      "metadata": {
        "colab": {
          "base_uri": "https://localhost:8080/",
          "height": 102
        },
        "id": "hvrzCw4A1dYv",
        "outputId": "37898551-5c95-44c6-b27e-61ab4de5ea3a"
      },
      "outputs": [
        {
          "data": {
            "text/plain": [
              "Index(['Unnamed: 0', 'id', 'spotify_id', 'list_name', 'list_id', 'song_id',\n",
              "       'song_name', 'artist', 'popularity', 'release_date', 'energy',\n",
              "       'liveness', 'tempo', 'speechiness', 'acousticness', 'instrumentalness',\n",
              "       'danceability', 'duration_ms', 'loudness', 'valence', 'mode', 'key'],\n",
              "      dtype='object')"
            ]
          },
          "execution_count": 5,
          "metadata": {},
          "output_type": "execute_result"
        }
      ],
      "source": [
        "df2.columns"
      ]
    },
    {
      "cell_type": "markdown",
      "metadata": {
        "id": "y1gIP2RioD3T"
      },
      "source": [
        "## Dropping columns\n",
        "\n",
        "There are many columns that are not required for analysis so we will drop those columns."
      ]
    },
    {
      "cell_type": "code",
      "execution_count": 6,
      "metadata": {
        "id": "KTnh16-_4E7n"
      },
      "outputs": [],
      "source": [
        "df1 = df1.drop(columns=['Unnamed: 0', 'name', 'endTime', 'type', 'uri', 'track_href', 'analysis_url', 'duration_ms' ])\n",
        "df2 = df2.drop(columns=['Unnamed: 0', 'id', 'spotify_id', 'list_id' ])"
      ]
    },
    {
      "cell_type": "markdown",
      "metadata": {
        "id": "Y0lTWdV2d9CJ"
      },
      "source": [
        "## Removing Duplicates\n",
        "\n",
        "Since I have listened to a single song multiple times so there are multiple entries of a single song. \n",
        "\n",
        "So we will create a new csv file to store the distinct songs heard by me."
      ]
    },
    {
      "cell_type": "code",
      "execution_count": 7,
      "metadata": {
        "colab": {
          "base_uri": "https://localhost:8080/",
          "height": 34
        },
        "id": "zWo-Y9HTbu2d",
        "outputId": "494f552a-2f4a-4019-fe28-50ec7a01b5e5"
      },
      "outputs": [
        {
          "data": {
            "text/plain": [
              "(15823, 19)"
            ]
          },
          "execution_count": 7,
          "metadata": {},
          "output_type": "execute_result"
        }
      ],
      "source": [
        "# shape before dropping duplicate rows\n",
        "df1.shape"
      ]
    },
    {
      "cell_type": "code",
      "execution_count": 8,
      "metadata": {
        "colab": {
          "base_uri": "https://localhost:8080/",
          "height": 34
        },
        "id": "s0Ut8ufO5xbL",
        "outputId": "f3620d9d-f38e-4a94-e06c-1bcfbbe792dd"
      },
      "outputs": [
        {
          "data": {
            "text/plain": [
              "(38, 18)"
            ]
          },
          "execution_count": 8,
          "metadata": {},
          "output_type": "execute_result"
        }
      ],
      "source": [
        "df2.shape"
      ]
    },
    {
      "cell_type": "code",
      "execution_count": 9,
      "metadata": {
        "id": "ZVQS7OXpcoFG"
      },
      "outputs": [],
      "source": [
        "# we are keeping the last instance instead of the first as we need the latest entry of the song\n",
        "df1_new = df1.drop_duplicates( subset = 'trackName', keep = 'last')\n",
        "df2_new = df2.drop_duplicates( subset = ['list_name', 'song_name'], keep = 'last')"
      ]
    },
    {
      "cell_type": "code",
      "execution_count": 10,
      "metadata": {
        "colab": {
          "base_uri": "https://localhost:8080/",
          "height": 34
        },
        "id": "KUk1PLfcb0xL",
        "outputId": "4f22bf29-f79b-4362-d395-7e8caf5040dc"
      },
      "outputs": [
        {
          "data": {
            "text/plain": [
              "(1923, 19)"
            ]
          },
          "execution_count": 10,
          "metadata": {},
          "output_type": "execute_result"
        }
      ],
      "source": [
        "# after dropping duplicate rows\n",
        "df1_new.shape"
      ]
    },
    {
      "cell_type": "code",
      "execution_count": 11,
      "metadata": {
        "colab": {
          "base_uri": "https://localhost:8080/",
          "height": 34
        },
        "id": "tdAw50bF5_Cy",
        "outputId": "1c259aa3-0b7d-4cb6-a73e-0225646aa821"
      },
      "outputs": [
        {
          "data": {
            "text/plain": [
              "(38, 18)"
            ]
          },
          "execution_count": 11,
          "metadata": {},
          "output_type": "execute_result"
        }
      ],
      "source": [
        "# after dropping duplicate rows\n",
        "df2_new.shape"
      ]
    },
    {
      "cell_type": "markdown",
      "metadata": {
        "id": "O4mpKHnVoLQA"
      },
      "source": [
        "## Null check\n",
        "\n",
        "Checking for empty cells and filling them is important. Since there are no empty cells there is no need for imputation."
      ]
    },
    {
      "cell_type": "code",
      "execution_count": 12,
      "metadata": {
        "colab": {
          "base_uri": "https://localhost:8080/",
          "height": 323
        },
        "id": "1DRZKMkf4usG",
        "outputId": "9fdff8de-1bee-4513-a315-2ffa2fd6c0b0"
      },
      "outputs": [
        {
          "data": {
            "text/plain": [
              "artistName            0\n",
              "trackName             0\n",
              "msPlayed              0\n",
              "datetime              0\n",
              "danceability          0\n",
              "energy                0\n",
              "key                   0\n",
              "loudness              0\n",
              "mode                  0\n",
              "speechiness           0\n",
              "acousticness          0\n",
              "instrumentalness      0\n",
              "liveness              0\n",
              "valence               0\n",
              "tempo                 0\n",
              "id                    0\n",
              "time_signature        0\n",
              "albumName           157\n",
              "albumID             157\n",
              "dtype: int64"
            ]
          },
          "execution_count": 12,
          "metadata": {},
          "output_type": "execute_result"
        }
      ],
      "source": [
        "df1.isnull().sum()"
      ]
    },
    {
      "cell_type": "code",
      "execution_count": 13,
      "metadata": {
        "colab": {
          "base_uri": "https://localhost:8080/",
          "height": 340
        },
        "id": "nOhCEsvp6Dvd",
        "outputId": "a2f79260-3ccb-4c8e-b6a2-ae81e93b0f84"
      },
      "outputs": [
        {
          "data": {
            "text/plain": [
              "list_name           0\n",
              "song_id             1\n",
              "song_name           1\n",
              "artist              1\n",
              "popularity          1\n",
              "release_date        1\n",
              "energy              1\n",
              "liveness            1\n",
              "tempo               1\n",
              "speechiness         1\n",
              "acousticness        1\n",
              "instrumentalness    1\n",
              "danceability        1\n",
              "duration_ms         1\n",
              "loudness            1\n",
              "valence             1\n",
              "mode                1\n",
              "key                 1\n",
              "dtype: int64"
            ]
          },
          "execution_count": 13,
          "metadata": {},
          "output_type": "execute_result"
        }
      ],
      "source": [
        "df2.isnull().sum()"
      ]
    },
    {
      "cell_type": "markdown",
      "metadata": {},
      "source": [
        "One of the playlist I created is empty. So we can delete that playlist entry. "
      ]
    },
    {
      "cell_type": "code",
      "execution_count": 14,
      "metadata": {},
      "outputs": [
        {
          "data": {
            "text/plain": [
              "artistName           0\n",
              "trackName            0\n",
              "msPlayed             0\n",
              "datetime             0\n",
              "danceability         0\n",
              "energy               0\n",
              "key                  0\n",
              "loudness             0\n",
              "mode                 0\n",
              "speechiness          0\n",
              "acousticness         0\n",
              "instrumentalness     0\n",
              "liveness             0\n",
              "valence              0\n",
              "tempo                0\n",
              "id                   0\n",
              "time_signature       0\n",
              "albumName           17\n",
              "albumID             17\n",
              "dtype: int64"
            ]
          },
          "execution_count": 14,
          "metadata": {},
          "output_type": "execute_result"
        }
      ],
      "source": [
        "df1_new.isnull().sum()"
      ]
    },
    {
      "cell_type": "code",
      "execution_count": 15,
      "metadata": {},
      "outputs": [
        {
          "data": {
            "text/plain": [
              "list_name           0\n",
              "song_id             1\n",
              "song_name           1\n",
              "artist              1\n",
              "popularity          1\n",
              "release_date        1\n",
              "energy              1\n",
              "liveness            1\n",
              "tempo               1\n",
              "speechiness         1\n",
              "acousticness        1\n",
              "instrumentalness    1\n",
              "danceability        1\n",
              "duration_ms         1\n",
              "loudness            1\n",
              "valence             1\n",
              "mode                1\n",
              "key                 1\n",
              "dtype: int64"
            ]
          },
          "execution_count": 15,
          "metadata": {},
          "output_type": "execute_result"
        }
      ],
      "source": [
        "df2_new.isnull().sum()"
      ]
    },
    {
      "cell_type": "code",
      "execution_count": 16,
      "metadata": {},
      "outputs": [],
      "source": [
        "df2.dropna(subset=['song_id', 'song_name', 'artist', 'popularity', 'release_date', 'energy', 'liveness', 'tempo', 'speechiness', 'acousticness', 'instrumentalness', 'danceability', 'duration_ms', 'loudness', 'valence', 'mode', 'key'] , inplace = True)\n",
        "\n",
        "df2_new.dropna(subset=['song_id', 'song_name', 'artist', 'popularity', 'release_date', 'energy', 'liveness', 'tempo', 'speechiness', 'acousticness', 'instrumentalness', 'danceability', 'duration_ms', 'loudness', 'valence', 'mode', 'key'] , inplace = True)"
      ]
    },
    {
      "cell_type": "code",
      "execution_count": 17,
      "metadata": {},
      "outputs": [
        {
          "data": {
            "text/plain": [
              "list_name           0\n",
              "song_id             0\n",
              "song_name           0\n",
              "artist              0\n",
              "popularity          0\n",
              "release_date        0\n",
              "energy              0\n",
              "liveness            0\n",
              "tempo               0\n",
              "speechiness         0\n",
              "acousticness        0\n",
              "instrumentalness    0\n",
              "danceability        0\n",
              "duration_ms         0\n",
              "loudness            0\n",
              "valence             0\n",
              "mode                0\n",
              "key                 0\n",
              "dtype: int64"
            ]
          },
          "execution_count": 17,
          "metadata": {},
          "output_type": "execute_result"
        }
      ],
      "source": [
        "df2.isnull().sum()"
      ]
    },
    {
      "cell_type": "code",
      "execution_count": 18,
      "metadata": {},
      "outputs": [
        {
          "data": {
            "text/plain": [
              "list_name           0\n",
              "song_id             0\n",
              "song_name           0\n",
              "artist              0\n",
              "popularity          0\n",
              "release_date        0\n",
              "energy              0\n",
              "liveness            0\n",
              "tempo               0\n",
              "speechiness         0\n",
              "acousticness        0\n",
              "instrumentalness    0\n",
              "danceability        0\n",
              "duration_ms         0\n",
              "loudness            0\n",
              "valence             0\n",
              "mode                0\n",
              "key                 0\n",
              "dtype: int64"
            ]
          },
          "execution_count": 18,
          "metadata": {},
          "output_type": "execute_result"
        }
      ],
      "source": [
        "df2_new.isnull().sum()"
      ]
    },
    {
      "cell_type": "markdown",
      "metadata": {
        "id": "aSrHrs6yoPO3"
      },
      "source": [
        "## Data Format Check\n",
        "\n",
        "In this we are checking if the attributes match with their data type."
      ]
    },
    {
      "cell_type": "code",
      "execution_count": 19,
      "metadata": {
        "colab": {
          "base_uri": "https://localhost:8080/",
          "height": 323
        },
        "id": "-drdk3kzVNsX",
        "outputId": "726e5ef7-ff88-4b18-ec45-ddf6e3290dd6"
      },
      "outputs": [
        {
          "data": {
            "text/plain": [
              "artistName           object\n",
              "trackName            object\n",
              "msPlayed              int64\n",
              "datetime             object\n",
              "danceability        float64\n",
              "energy              float64\n",
              "key                   int64\n",
              "loudness            float64\n",
              "mode                  int64\n",
              "speechiness         float64\n",
              "acousticness        float64\n",
              "instrumentalness    float64\n",
              "liveness            float64\n",
              "valence             float64\n",
              "tempo               float64\n",
              "id                   object\n",
              "time_signature        int64\n",
              "albumName            object\n",
              "albumID              object\n",
              "dtype: object"
            ]
          },
          "execution_count": 19,
          "metadata": {},
          "output_type": "execute_result"
        }
      ],
      "source": [
        "df1.dtypes"
      ]
    },
    {
      "cell_type": "code",
      "execution_count": 20,
      "metadata": {
        "colab": {
          "base_uri": "https://localhost:8080/",
          "height": 340
        },
        "id": "RjwGgZTT6IKs",
        "outputId": "c8949f2f-e67d-435f-e4a5-6062b6cda645"
      },
      "outputs": [
        {
          "data": {
            "text/plain": [
              "list_name            object\n",
              "song_id              object\n",
              "song_name            object\n",
              "artist               object\n",
              "popularity          float64\n",
              "release_date         object\n",
              "energy              float64\n",
              "liveness            float64\n",
              "tempo               float64\n",
              "speechiness         float64\n",
              "acousticness        float64\n",
              "instrumentalness    float64\n",
              "danceability        float64\n",
              "duration_ms         float64\n",
              "loudness            float64\n",
              "valence             float64\n",
              "mode                float64\n",
              "key                 float64\n",
              "dtype: object"
            ]
          },
          "execution_count": 20,
          "metadata": {},
          "output_type": "execute_result"
        }
      ],
      "source": [
        "df2.dtypes"
      ]
    },
    {
      "cell_type": "markdown",
      "metadata": {
        "id": "Ml1WwHImoUcB"
      },
      "source": [
        "## Value Check\n",
        "\n",
        "In this we are checking if the content inside the cells are correct or not. So by finding the max and min of the numerical values we can determine if the values are in the acceptable range or not."
      ]
    },
    {
      "cell_type": "code",
      "execution_count": 21,
      "metadata": {
        "colab": {
          "base_uri": "https://localhost:8080/",
          "height": 323
        },
        "id": "MCGebu5zgerb",
        "outputId": "2422be2f-40d8-473c-82fc-3d462b8a17e3"
      },
      "outputs": [
        {
          "name": "stderr",
          "output_type": "stream",
          "text": [
            "C:\\Users\\adith\\AppData\\Local\\Temp\\ipykernel_18896\\3905423607.py:1: FutureWarning: Dropping of nuisance columns in DataFrame reductions (with 'numeric_only=None') is deprecated; in a future version this will raise TypeError.  Select only valid columns before calling the reduction.\n",
            "  df1.max(axis=0)\n"
          ]
        },
        {
          "data": {
            "text/plain": [
              "artistName                            阿保 剛\n",
              "trackName                               進化\n",
              "msPlayed                            634409\n",
              "datetime               2022-03-12 18:10:00\n",
              "danceability                         0.957\n",
              "energy                               0.998\n",
              "key                                     11\n",
              "loudness                            -0.084\n",
              "mode                                     1\n",
              "speechiness                          0.818\n",
              "acousticness                         0.995\n",
              "instrumentalness                       1.0\n",
              "liveness                             0.988\n",
              "valence                              0.963\n",
              "tempo                              210.013\n",
              "id                  7zc2FDuqxw5ooCAuTxhuYd\n",
              "time_signature                           5\n",
              "dtype: object"
            ]
          },
          "execution_count": 21,
          "metadata": {},
          "output_type": "execute_result"
        }
      ],
      "source": [
        "df1.max(axis=0)"
      ]
    },
    {
      "cell_type": "code",
      "execution_count": 22,
      "metadata": {
        "colab": {
          "base_uri": "https://localhost:8080/",
          "height": 323
        },
        "id": "L0dDp-Gpg7Mz",
        "outputId": "94710c30-e563-47f6-d9dc-c767c7368470"
      },
      "outputs": [
        {
          "name": "stderr",
          "output_type": "stream",
          "text": [
            "C:\\Users\\adith\\AppData\\Local\\Temp\\ipykernel_18896\\3223245469.py:1: FutureWarning: Dropping of nuisance columns in DataFrame reductions (with 'numeric_only=None') is deprecated; in a future version this will raise TypeError.  Select only valid columns before calling the reduction.\n",
            "  df1.min(axis=0)\n"
          ]
        },
        {
          "data": {
            "text/plain": [
              "artistName                        2021 Wrapped\n",
              "trackName           (I Just) Died In Your Arms\n",
              "msPlayed                                     0\n",
              "datetime                   2021-03-12 05:39:00\n",
              "danceability                               0.0\n",
              "energy                                 0.00002\n",
              "key                                          0\n",
              "loudness                               -38.369\n",
              "mode                                         0\n",
              "speechiness                                0.0\n",
              "acousticness                          0.000004\n",
              "instrumentalness                           0.0\n",
              "liveness                                0.0222\n",
              "valence                                    0.0\n",
              "tempo                                      0.0\n",
              "id                      003FTlCpBTM4eSqYSWPv4H\n",
              "time_signature                               0\n",
              "dtype: object"
            ]
          },
          "execution_count": 22,
          "metadata": {},
          "output_type": "execute_result"
        }
      ],
      "source": [
        "df1.min(axis=0)"
      ]
    },
    {
      "cell_type": "code",
      "execution_count": 23,
      "metadata": {
        "colab": {
          "base_uri": "https://localhost:8080/",
          "height": 340
        },
        "id": "_zmg3Rp46OAu",
        "outputId": "02dce1f1-18cb-49ae-ff36-b8bfee95892b"
      },
      "outputs": [
        {
          "data": {
            "text/plain": [
              "list_name                        On Repeat\n",
              "song_id             7qzfQO3LQdh5XonLYP2MQ9\n",
              "song_name                              青い栞\n",
              "artist                              Xenors\n",
              "popularity                            82.0\n",
              "release_date                    2022-03-31\n",
              "energy                               0.892\n",
              "liveness                              0.42\n",
              "tempo                              176.019\n",
              "speechiness                          0.364\n",
              "acousticness                         0.915\n",
              "instrumentalness                     0.766\n",
              "danceability                         0.917\n",
              "duration_ms                       616509.0\n",
              "loudness                            -4.029\n",
              "valence                              0.977\n",
              "mode                                   1.0\n",
              "key                                   11.0\n",
              "dtype: object"
            ]
          },
          "execution_count": 23,
          "metadata": {},
          "output_type": "execute_result"
        }
      ],
      "source": [
        "df2.max(axis=0)"
      ]
    },
    {
      "cell_type": "code",
      "execution_count": 24,
      "metadata": {
        "colab": {
          "base_uri": "https://localhost:8080/",
          "height": 340
        },
        "id": "QQHCCoRd6Q5j",
        "outputId": "88b00934-2c94-4cec-fac1-f51c15e55d35"
      },
      "outputs": [
        {
          "data": {
            "text/plain": [
              "list_name                   My Playlist #2\n",
              "song_id             0C47mkZ7VGcnKBvEG7PiAP\n",
              "song_name            Abhi Na Jao Chhod Kar\n",
              "artist                         A.R. Rahman\n",
              "popularity                            28.0\n",
              "release_date                    1955-01-01\n",
              "energy                                 0.2\n",
              "liveness                             0.074\n",
              "tempo                               76.499\n",
              "speechiness                         0.0271\n",
              "acousticness                      0.000712\n",
              "instrumentalness                       0.0\n",
              "danceability                         0.343\n",
              "duration_ms                        67562.0\n",
              "loudness                           -27.091\n",
              "valence                             0.0774\n",
              "mode                                   0.0\n",
              "key                                    0.0\n",
              "dtype: object"
            ]
          },
          "execution_count": 24,
          "metadata": {},
          "output_type": "execute_result"
        }
      ],
      "source": [
        "df2.min(axis=0)"
      ]
    },
    {
      "cell_type": "markdown",
      "metadata": {
        "id": "xgKhXLsN1IX8"
      },
      "source": [
        "So after performing all these checks there seems to be no issues with the dataset and hence no cleaning required."
      ]
    },
    {
      "cell_type": "code",
      "execution_count": 25,
      "metadata": {
        "id": "J7qZ6flx1W0j"
      },
      "outputs": [],
      "source": [
        "df1.to_csv('data\\song_data.csv')\n",
        "df1_new.to_csv('data\\distinct_song.csv')\n",
        "df2.to_csv('data\\playlist_data.csv')\n",
        "df2_new.to_csv('data\\distinct_playlist.csv')"
      ]
    }
  ],
  "metadata": {
    "colab": {
      "name": "data_cleaning.ipynb",
      "provenance": []
    },
    "interpreter": {
      "hash": "1e40754c1ba6732c3e0fb50bec9af9d8367958f87f8c3582d79b45e726d1aabc"
    },
    "kernelspec": {
      "display_name": "Python 3.9.2 64-bit",
      "language": "python",
      "name": "python3"
    },
    "language_info": {
      "codemirror_mode": {
        "name": "ipython",
        "version": 3
      },
      "file_extension": ".py",
      "mimetype": "text/x-python",
      "name": "python",
      "nbconvert_exporter": "python",
      "pygments_lexer": "ipython3",
      "version": "3.10.1"
    },
    "metadata": {
      "interpreter": {
        "hash": "cf6663ca35ebd57d6121109460e534e72c1e1f8ff142ad985cdcb4b7e585eb79"
      }
    }
  },
  "nbformat": 4,
  "nbformat_minor": 0
}
